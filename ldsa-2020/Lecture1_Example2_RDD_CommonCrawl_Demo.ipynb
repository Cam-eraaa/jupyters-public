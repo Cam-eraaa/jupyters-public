{
 "cells": [
  {
   "cell_type": "code",
   "execution_count": 1,
   "metadata": {},
   "outputs": [
    {
     "data": {
      "text/plain": [
       "52455"
      ]
     },
     "execution_count": 1,
     "metadata": {},
     "output_type": "execute_result"
    }
   ],
   "source": [
    "from operator import add\n",
    "import re\n",
    "from collections import OrderedDict\n",
    "from operator import itemgetter \n",
    "import itertools\n",
    "from pyspark.sql import SparkSession\n",
    "\n",
    "# (8 cores, 16gb per machine) x 5 = 40 cores\n",
    "\n",
    "# New API\n",
    "spark_session = SparkSession\\\n",
    "        .builder\\\n",
    "        .master(\"spark://192.168.2.87:7077\") \\\n",
    "        .appName(\"common_crawl\")\\\n",
    "        .config(\"spark.dynamicAllocation.enabled\", True)\\\n",
    "        .config(\"spark.shuffle.service.enabled\", True)\\\n",
    "        .config(\"spark.dynamicAllocation.executorIdleTimeout\",\"30s\")\\\n",
    "        .config(\"spark.executor.cores\",4)\\\n",
    "        .getOrCreate()\n",
    "#        .config('spark.executor.cores', 2)\\\n",
    "\n",
    "\n",
    "# Old API (RDD)\n",
    "spark_context = spark_session.sparkContext\n",
    "\n",
    "# (*/*) - out of memory›\n",
    "# ~6.4mins for 39496 files. (...00000/)  (takes 1 minute with 40 partitions)\n",
    "# ~5 secs for 10 files (...00000/0*) \n",
    "# ~20 secs for 11110 files (...00000/1*) \n",
    "\n",
    "\n",
    "rdd = spark_context.newAPIHadoopFile(\n",
    "    'hdfs://192.168.2.87:9000/crawl-wet/CC-MAIN-20200328074047-20200328104047-00000.warc.wet',\n",
    "    'org.apache.hadoop.mapreduce.lib.input.TextInputFormat',\n",
    "    'org.apache.hadoop.io.LongWritable',\n",
    "    'org.apache.hadoop.io.Text',\n",
    "    conf={'textinputformat.record.delimiter': 'WARC/1.0'}\n",
    ")\\\n",
    ".cache() # Keep this RDD in memory!\n",
    "\n",
    "rdd.count()\n",
    "# Only one job (previous .cache() did not trigger a job)"
   ]
  },
  {
   "cell_type": "code",
   "execution_count": 2,
   "metadata": {},
   "outputs": [
    {
     "data": {
      "text/plain": [
       "[(0, ''),\n",
       " (8,\n",
       "  '\\r\\nWARC-Type: warcinfo\\r\\nWARC-Date: 2020-04-10T16:44:20Z\\r\\nWARC-Filename: CC-MAIN-20200328074047-20200328104047-00000.warc.wet.gz\\r\\nWARC-Record-ID: <urn:uuid:3b06c614-57de-423a-aba2-2e8c39f02c0b>\\r\\nContent-Type: application/warc-fields\\r\\nContent-Length: 376\\r\\n\\r\\nSoftware-Info: ia-web-commons.1.1.10-SNAPSHOT-20200324091056\\r\\nExtracted-Date: Fri, 10 Apr 2020 16:44:20 GMT\\r\\nrobots: checked via crawler-commons 1.1-SNAPSHOT (https://github.com/crawler-commons/crawler-commons)\\r\\nisPartOf: CC-MAIN-2020-16\\r\\noperator: Common Crawl Admin (info@commoncrawl.org)\\r\\ndescription: Wide crawl of the web for March/April 2020\\r\\npublisher: Common Crawl\\r\\n\\r\\n\\r\\n\\r\\n'),\n",
       " (651,\n",
       "  '\\r\\nWARC-Type: conversion\\r\\nWARC-Target-URI: http://000ojfb.wcomhost.com/ushwa/2018-dan-patch-banquet/ken-weingartner-chof/\\r\\nWARC-Date: 2020-03-28T09:27:14Z\\r\\nWARC-Record-ID: <urn:uuid:1ebf934c-633e-4362-ac23-b2b17993ec64>\\r\\nWARC-Refers-To: <urn:uuid:7ee10237-5635-4404-9a2c-b546e8aef370>\\r\\nWARC-Block-Digest: sha1:AESMWWBBLY7FFNJ24VA2IHFFZBPURAQ7\\r\\nContent-Type: text/plain\\r\\nContent-Length: 850\\r\\n\\r\\nKen Weingartner chof – United States Harness Writers Association\\nBreeding champions for generations!\\nClick this banner to donate and help place a horse!\\nMenu\\nHome\\nNational Officers/Past Presidents\\nChapter Membership\\n2019 Award Winners\\n2020 Dan Patch Banquet\\n2019 Journal and Sponsors\\nHall Of Fame and Museum\\nBy Laws\\nGallery/Links\\nKen Weingartner chof\\nPrevious Next\\nCommunicators Hall – Ken Weingartner\\nPublished March 4, 2020 at 1500 × 1125 in 2020 Dan Patch Banquet.\\n2020 Copyright © United States Harness Writers Association. All Rights Reserved.\\nWeb Design and Domain names by\\nNavigation\\nHome\\nNational Officers/Past Presidents\\nChapter Membership\\n2019 Award Winners\\n2020 Dan Patch Banquet\\n2019 Journal and Sponsors\\nHall Of Fame and Museum\\nBy Laws\\nGallery/Links\\nSitemap\\nContact\\nushwainfo@gmail.com\\nHarrisburg, PA\\nQuestions\\nwebmaster@ushwa.net\\n\\r\\n\\r\\n')]"
      ]
     },
     "execution_count": 2,
     "metadata": {},
     "output_type": "execute_result"
    }
   ],
   "source": [
    "rdd.take(3)\n",
    "# [(line_number, partition)]"
   ]
  },
  {
   "cell_type": "code",
   "execution_count": 3,
   "metadata": {},
   "outputs": [
    {
     "data": {
      "text/plain": [
       "4"
      ]
     },
     "execution_count": 3,
     "metadata": {},
     "output_type": "execute_result"
    }
   ],
   "source": [
    "rdd.getNumPartitions()"
   ]
  },
  {
   "cell_type": "code",
   "execution_count": 4,
   "metadata": {},
   "outputs": [
    {
     "name": "stdout",
     "output_type": "stream",
     "text": [
      "http://host-192-168-2-131-ldsa:4043\n"
     ]
    }
   ],
   "source": [
    "print(spark_context.uiWebUrl)"
   ]
  },
  {
   "cell_type": "code",
   "execution_count": 7,
   "metadata": {},
   "outputs": [
    {
     "name": "stdout",
     "output_type": "stream",
     "text": [
      "[('and', 2044), ('the', 1962), ('of', 1597), ('to', 1166), ('1', 994), ('in', 786), ('a', 717), ('for', 552), ('-', 521), ('The', 373), ('on', 339), ('&', 328), ('is', 324), ('Research', 306), ('Photographic', 287), ('collection:', 286), ('at', 278), ('with', 278), ('by', 272), ('', 261), ('University', 261), ('(←', 250), ('links)', 250), ('\\u200e', 250), ('|', 235), ('that', 232), ('College', 229), ('view', 227), ('this', 225), ('as', 218), ('webpages', 211), ('are', 203), ('from', 175), ('be', 170), ('About', 168), ('hircus', 168), ('you', 162), ('Contact', 161), ('your', 161), ('or', 158)]\n"
     ]
    }
   ],
   "source": [
    "## Example #1 - Filter by TLD and compute most common words ##\n",
    "\n",
    "# Try .ac.uk, .ru, .se, .com\n",
    "p = re.compile('WARC-Target-URI: \\S+\\.ac.uk', re.IGNORECASE)\n",
    "\n",
    "rdd1 = rdd\\\n",
    ".filter(lambda doc: bool(p.search(doc[1])))\\\n",
    ".map(lambda web_text: web_text[1].partition('\\r\\n\\r\\n')[2])\\\n",
    ".flatMap(lambda t: t.split(' '))\\\n",
    ".flatMap(lambda w: w.split('\\n'))\\\n",
    "\n",
    "rdd2 = rdd1.map(lambda w: w.strip())\\\n",
    ".map(lambda w: (w,1))\\\n",
    ".reduceByKey(add)\n",
    "\n",
    "result = rdd2.takeOrdered(40, key=lambda x: -x[1])\n",
    "\n",
    "print(result)"
   ]
  },
  {
   "cell_type": "code",
   "execution_count": null,
   "metadata": {
    "scrolled": true
   },
   "outputs": [
    {
     "name": "stdout",
     "output_type": "stream",
     "text": [
      "Results:\n",
      "com\n"
     ]
    }
   ],
   "source": [
    "## Example #2 - Group by TLD and compute most common words for each ##\n",
    "\n",
    "ex = \"WARC-Type: conversion\\\n",
    "WARC-Target-URI: http://news.bbc.co.uk/2/hi/africa/3414345.stm\\\n",
    "WARC-Date: 2014-08-02T09:52:13Z\"\n",
    "\n",
    "p = re.compile('WARC-Target-URI: \\S+\\.([a-zA-Z]{2,3})/', re.IGNORECASE)\n",
    "# print(p.search(ex).group(1))\n",
    "# uk\n",
    "\n",
    "def get_tld(content):\n",
    "    match = p.search(content)\n",
    "    if match is not None:\n",
    "        return match.group(1)\n",
    "    else:\n",
    "        return None\n",
    "\n",
    "# discard the line number\n",
    "# partition() -- python function -- split on the first occurance, returns (before,split,after)\n",
    "# filter out those with no TLD\n",
    "\n",
    "    \n",
    "words_by_tld_rdd = rdd\\\n",
    "    .map(lambda filename_content: filename_content[1])\\\n",
    "    .map(lambda content: (get_tld(content), content.partition('\\r\\n\\r\\n')[2]))\\\n",
    "    .filter(lambda tld_content: tld_content[0] is not None)\\\n",
    "    .flatMapValues(lambda words: words.split(' '))\\\n",
    "    .flatMapValues(lambda words: words.split('\\n'))\\\n",
    "    .mapValues(lambda word: word.strip())\n",
    "    #.take(10)\n",
    "\n",
    "# print(words_by_tld_rdd.take(10))\n",
    "\n",
    "tlds = words_by_tld_rdd.countByKey()\n",
    "#print(tlds)\n",
    "\n",
    "tlds = OrderedDict(sorted(tlds.items(), key = itemgetter(1), reverse = True))\n",
    "# print(tlds)  \n",
    "\n",
    "top_tlds = dict(itertools.islice(tlds.items(), 10))\n",
    "\n",
    "# print(top_tlds)\n",
    "\n",
    "print(\"Results:\")\n",
    "\n",
    "for tld in top_tlds:\n",
    "    print(tld)\n",
    "    top_words_for_tld = words_by_tld_rdd\\\n",
    "        .filter(lambda tld_word: tld_word[0] == tld)\\\n",
    "        .values()\\\n",
    "        .map(lambda w: (w,1))\\\n",
    "        .reduceByKey(add)\\\n",
    "        .takeOrdered(20, key=lambda x: -x[1])\n",
    "    print(top_words_for_tld)"
   ]
  },
  {
   "cell_type": "code",
   "execution_count": null,
   "metadata": {},
   "outputs": [],
   "source": [
    "#file_content = rdd.take(1)[0][1]\n",
    "#print(file_content.partition('\\r\\n\\r\\n')[2])\n",
    "from operator import add\n",
    "import re\n",
    "\n",
    "ex = \"WARC-Type: conversion\\\n",
    "WARC-Target-URI: http://news.bbc.co.uk/2/hi/africa/3414345.stm\\\n",
    "WARC-Date: 2014-08-02T09:52:13Z\"\n",
    "\n",
    "p = re.compile('WARC-Target-URI: \\S+\\.(([a-zA-Z]{2,3}}\\.)?[a-zA-Z]{2,3}})/', re.IGNORECASE)\n",
    "\n",
    "print(p.search(ex))\n",
    "\n",
    "#print(bool(p.search('\\nWARC-Target-URI:\\n')))\n",
    "\n",
    "#rdd\\\n",
    "#.filter(lambda doc: bool(p.search(doc[1])))\\\n",
    "#.map(lambda filename_content: filename_content[1].partition('\\r\\n\\r\\n')[2])\\\n",
    "#.flatMap(lambda t: t.split(' '))\\\n",
    "#.flatMap(lambda w: w.split('\\n'))\\\n",
    "#.map(lambda w: w.strip())\\\n",
    "#.map(lambda w: (w,1))\\\n",
    "#.reduceByKey(add)\\\n",
    "#.takeOrdered(100, key=lambda x: -x[1])\n",
    "#.take(100)\n",
    "#.take(10)\n",
    "#.flatMap(lambda text: text.split(' ')).take(100)"
   ]
  },
  {
   "cell_type": "code",
   "execution_count": null,
   "metadata": {},
   "outputs": [],
   "source": [
    "#spark_session.stop()"
   ]
  },
  {
   "cell_type": "code",
   "execution_count": null,
   "metadata": {},
   "outputs": [],
   "source": []
  }
 ],
 "metadata": {
  "kernelspec": {
   "display_name": "Python 3",
   "language": "python",
   "name": "python3"
  }
 },
 "nbformat": 4,
 "nbformat_minor": 2
}
