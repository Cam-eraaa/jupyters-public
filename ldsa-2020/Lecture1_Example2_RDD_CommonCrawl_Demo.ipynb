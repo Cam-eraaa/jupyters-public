{
 "cells": [
  {
   "cell_type": "code",
   "execution_count": 1,
   "metadata": {},
   "outputs": [
    {
     "data": {
      "text/plain": [
       "45412"
      ]
     },
     "execution_count": 1,
     "metadata": {},
     "output_type": "execute_result"
    }
   ],
   "source": [
    "from operator import add\n",
    "import re\n",
    "from collections import OrderedDict\n",
    "from operator import itemgetter \n",
    "import itertools\n",
    "from pyspark.sql import SparkSession\n",
    "\n",
    "# (8 cores, 16gb per machine) x 5 = 40 cores\n",
    "\n",
    "# New API\n",
    "spark_session = SparkSession\\\n",
    "        .builder\\\n",
    "        .master(\"spark://192.168.1.19:7077\") \\\n",
    "        .appName(\"common_crawl\")\\\n",
    "        .config(\"spark.dynamicAllocation.enabled\", True)\\\n",
    "        .config(\"spark.shuffle.service.enabled\", True)\\\n",
    "        .config(\"spark.dynamicAllocation.executorIdleTimeout\",\"30s\")\\\n",
    "        .config(\"spark.executor.cores\",4)\\\n",
    "        .getOrCreate()\n",
    "#        .config('spark.executor.cores', 2)\\\n",
    "\n",
    "\n",
    "# Old API (RDD)\n",
    "spark_context = spark_session.sparkContext\n",
    "\n",
    "# (*/*) - out of memory›\n",
    "# ~6.4mins for 39496 files. (...00000/)  (takes 1 minute with 40 partitions)\n",
    "# ~5 secs for 10 files (...00000/0*) \n",
    "# ~20 secs for 11110 files (...00000/1*) \n",
    "\n",
    "\n",
    "rdd = spark_context.newAPIHadoopFile(\n",
    "    'hdfs://192.168.1.19:9000/crawl-wet/CC-MAIN-20190318132220-20190318153611-00020.warc.wet',\n",
    "    'org.apache.hadoop.mapreduce.lib.input.TextInputFormat',\n",
    "    'org.apache.hadoop.io.LongWritable',\n",
    "    'org.apache.hadoop.io.Text',\n",
    "    conf={'textinputformat.record.delimiter': 'WARC/1.0'}\n",
    ")\\\n",
    ".cache() # Keep this RDD in memory!\n",
    "\n",
    "rdd.count()\n",
    "# Only one job (previous .cache() did not trigger a job)"
   ]
  },
  {
   "cell_type": "code",
   "execution_count": 3,
   "metadata": {},
   "outputs": [
    {
     "data": {
      "text/plain": [
       "[(0, ''),\n",
       " (8,\n",
       "  '\\r\\nWARC-Type: warcinfo\\r\\nWARC-Date: 2019-03-27T04:47:45Z\\r\\nWARC-Filename: CC-MAIN-20190318132220-20190318153611-00020.warc.wet.gz\\r\\nWARC-Record-ID: <urn:uuid:14cd40bb-fff3-45dc-95ba-ed9ff0fb9d83>\\r\\nContent-Type: application/warc-fields\\r\\nContent-Length: 370\\r\\n\\r\\nSoftware-Info: ia-web-commons.1.1.9-SNAPSHOT-20190314010907\\r\\nExtracted-Date: Wed, 27 Mar 2019 04:47:45 GMT\\r\\nrobots: checked via crawler-commons 0.11-SNAPSHOT (https://github.com/crawler-commons/crawler-commons)\\r\\nisPartOf: CC-MAIN-2019-13\\r\\noperator: Common Crawl Admin (info@commoncrawl.org)\\r\\ndescription: Wide crawl of the web for March 2019\\r\\npublisher: Common Crawl\\r\\n\\r\\n\\r\\n\\r\\n'),\n",
       " (645,\n",
       "  '\\r\\nWARC-Type: conversion\\r\\nWARC-Target-URI: http://0-100.hotnews.ro/2013/11/18/noul-mercedes-benz-clasa-c-deconspirat-inainte-de-lansarea-din-2014/\\r\\nWARC-Date: 2019-03-18T14:25:39Z\\r\\nWARC-Record-ID: <urn:uuid:aee4e90b-93a6-4100-9186-f7b47caa1c58>\\r\\nWARC-Refers-To: <urn:uuid:591fe7ff-9e97-4ff4-a879-d60629a84f36>\\r\\nWARC-Block-Digest: sha1:77HGJG2DIRM7ZCUK24V7PN2SO7L5WTG5\\r\\nContent-Type: text/plain\\r\\nContent-Length: 3854\\r\\n\\r\\nNoul Mercedes-Benz Clasa C, deconspirat inainte de lansarea din 2014 | 0-100.ro\\nReview\\nOpinie\\nEco\\nTop Story\\nReportaj\\nTehnologie\\nSaloane Auto\\nContact\\nDespre\\nArhiva\\nReview\\nOpinie\\nEco\\nTop Story\\nReportaj\\nTehnologie\\nSaloane Auto\\nAcasa Foto\\tNoul Mercedes-Benz Clasa C, deconspirat inainte de lansarea din 2014\\nFotoMercedes-BenzPoze Spion\\nNoul Mercedes-Benz Clasa C, deconspirat inainte de lansarea din 2014\\nscris de Adrian Mitrea 18 noiembrie 2013\\nMercedes-Benz Clasa C 2014 (sursa - worldcarfans.com)\\nNoua generatie a Mercedes-Benz Clasa C este gata de lansare, iar cele mai noi poze spion dezvaluie design-ul exterior al masinii, in totalitate, asta dupa ce poze cu interiorul au fost publicate in mod oficial de Daimler, iar cateva informatii despre tehnologiile cheie au fost de asemenea comunicate in urma cu o luna.\\nNoul Clasa C va fi lansat la inceput de 2014, beneficiaza de head-up display, cea mai usoara caroserie din segment, aer conditionat cu reglare dupa GPS si touchpad. Mai multe poze spion cu masina complet descoperita pot fi vazute AICI.\\nMercedes-Benz descrie noua Clasa C Sedan utilizand termeni precum senzual si modern. In ceea ce priveste greutatea, noul model va fi cu pana la 100 kg mai usor decat cel care va iesi din productie.\\nclick aici pentru galeria foto\\nStandard, noua Clasa C Sedan va fi oferita cu suspensie conventionala (metalica), dar optional va fi disponibila si o suspensie pneumatica (AIRMATIC), pentru ambele punti, fiind singurul model din segmentul sau care poate fi echipat cu asa ceva.\\nO alta noutate este ca scaunul din dreapta-fata poate detecta prezenta unui scaun special pentru copil si dezactiveaza automat airbag-ul, iar cand dispozitivul de fixare pentru copil este scos, airbag-ul se activeaza din nou automat.\\nIn ceea ce priveste instalatia de climatizare, aceasta are functie de recirculare automata aerului comandata de GPS, astfel ca recircularea este activata la patrunderea intr-un tunel. De asemenea, pe noua generatie Clasa C instalatia de climatizare poate avea tehnologia AIR-BALANCE, care parfumeaza si ionizeaza automat aerul (aceasta tehnologie a debutat pe noua Clasa S in cazul marcii Mercedes-Benz).\\nLansata pentru prima data in 1993, Mercedes-Benz Clasa C ajunge la a patra generatie si concureaza pe piata cu modele precum BMW Seria 3, Audi A4, Lexus IS si Infiniti G Sedan.\\nMercedes-Benz Clasa C 2014 (sursa - worldcarfans.com)\\nClasa CMercedes-BenzMercedes-Benz Clasa CPoze Spion\\t\\n0 comentariu\\n0\\t\\nFacebook Twitter Google + Pinterest\\nAdrian Mitrea\\njurnalist auto 0-100.ro\\nLasa un comentariu\\nSubscribe\\nNotifica-ma despre\\nnoi comentarii la articol raspunsuri la comentariul meu\\nArticole recente\\nPeste 8% din angajații Continental din lume sunt în România. Miza pe 2019 sunt proiectele smart city\\nVIDEO: Mazda CX-30, prim contact la Geneva. Plus noua Mazda3 și MX-5 30th Anniversary Edition\\nVIDEO: Volkswagen Passat facelift la Geneva. „Liber” pentru toată lumea la platforma electrică Volkswagen\\nVIDEO: Nissan IMQ, tehnologia hibridă e-POWER și LEAF e+. Prezentare de la Geneva\\nVIDEO: Prim contact cu Renault Clio V, la Geneva. Premieră mondială\\nComentarii recente\\nBenzinaru la Mașina hibridă: între soluție optimă și… inutilitate\\nAlex la VIDEO: Volkswagen Passat facelift la Geneva. „Liber” pentru toată lumea la platforma electrică Volkswagen\\nfghhfh la Aston Martin întră oficial pe piața românească în primăvara lui 2018, prin familia Bazac\\nMihai la Mașina hibridă: între soluție optimă și… inutilitate\\nAdrian Mitrea la Peste 8% din angajații Continental din lume sunt în România. Miza pe 2019 sunt proiectele smart city\\nwpDiscuz\\nAcest site foloseste cookie-uri pentru a imbunatati experienta utilizatorului. Prin utilizarea site-ului nostru sunteti de acord cu toate cookie-urile in conformitate cu politica noastra de Cookie-uri.Accepta\\n\\r\\n\\r\\n')]"
      ]
     },
     "execution_count": 3,
     "metadata": {},
     "output_type": "execute_result"
    }
   ],
   "source": [
    "rdd.take(3)\n",
    "# [(line_number, partition)]"
   ]
  },
  {
   "cell_type": "code",
   "execution_count": 4,
   "metadata": {},
   "outputs": [
    {
     "data": {
      "text/plain": [
       "4"
      ]
     },
     "execution_count": 4,
     "metadata": {},
     "output_type": "execute_result"
    }
   ],
   "source": [
    "rdd.getNumPartitions()"
   ]
  },
  {
   "cell_type": "code",
   "execution_count": 4,
   "metadata": {},
   "outputs": [
    {
     "name": "stdout",
     "output_type": "stream",
     "text": [
      "http://ben-uppmax-haste-spark-master:4042\n"
     ]
    }
   ],
   "source": [
    "print(spark_context.uiWebUrl)"
   ]
  },
  {
   "cell_type": "code",
   "execution_count": 8,
   "metadata": {},
   "outputs": [
    {
     "name": "stdout",
     "output_type": "stream",
     "text": [
      "[('(1)', 1190), ('and', 844), ('the', 757), ('of', 713), ('to', 569), ('TP', 391), ('in', 332), ('a', 312), ('(2)', 260), ('for', 252), ('&', 240), ('Research', 164), ('Test', 162), ('Pitting', 162), ('University', 159), ('1', 158), ('is', 154), ('', 147), ('Overview', 138), ('at', 136), ('with', 130), ('The', 129), ('-', 122), ('(0)', 120), ('results', 114), ('you', 112), ('are', 111), ('this', 111), ('(3)', 107), ('on', 107), ('Cambridge', 102), ('be', 100), ('that', 99), ('or', 99), ('by', 94), ('our', 91), ('as', 90), ('|', 81), ('(4)', 80), ('from', 79)]\n"
     ]
    }
   ],
   "source": [
    "## Example #1 - Filter by TLD and compute most common words ##\n",
    "\n",
    "# Try .ac.uk, .ru, .se, .com\n",
    "p = re.compile('WARC-Target-URI: \\S+\\.ac.uk', re.IGNORECASE)\n",
    "\n",
    "rdd1 = rdd\\\n",
    ".filter(lambda doc: bool(p.search(doc[1])))\\\n",
    ".map(lambda web_text: web_text[1].partition('\\r\\n\\r\\n')[2])\\\n",
    ".flatMap(lambda t: t.split(' '))\\\n",
    ".flatMap(lambda w: w.split('\\n'))\\\n",
    "\n",
    "rdd2 = rdd1.map(lambda w: w.strip())\\\n",
    ".map(lambda w: (w,1))\\\n",
    ".reduceByKey(add)\\\n",
    ".takeOrdered(40, key=lambda x: -x[1])\n",
    "\n",
    "rdd2.cache()\n",
    "\n",
    "print(result)"
   ]
  },
  {
   "cell_type": "code",
   "execution_count": 6,
   "metadata": {
    "scrolled": true
   },
   "outputs": [
    {
     "name": "stdout",
     "output_type": "stream",
     "text": [
      "Results:\n",
      "com\n",
      "[('', 313751), ('the', 240565), ('to', 192484), ('and', 188530), ('of', 155312), ('a', 148880), ('-', 136600), ('in', 117613), ('de', 117381), ('for', 79645), ('|', 74581), ('&', 71469), ('is', 68145), ('on', 60071), ('with', 53353), ('The', 51921), ('you', 49771), ('►', 49083), ('(1)', 44558), ('by', 43888)]\n",
      "ru\n",
      "[('и', 52076), ('в', 41444), ('на', 24573), ('для', 21241), ('-', 19033), ('с', 18073), ('не', 12507), ('по', 11091), ('', 10914), ('|', 10475), ('В', 7738), ('от', 7037), ('из', 6453), ('—', 6354), ('что', 6198), ('к', 5933), ('1', 5454), ('–', 4968), ('о', 4919), ('за', 4625)]\n",
      "org\n",
      "[('', 51714), ('the', 32854), ('and', 23189), ('of', 22675), ('to', 22290), ('a', 16591), ('de', 16393), ('in', 15604), ('-', 11546), ('for', 9734), ('is', 8670), ('|', 7779), ('The', 7509), ('on', 6893), ('that', 6281), ('la', 6092), ('with', 5585), ('by', 5549), ('&', 5169), ('you', 5095)]\n",
      "net\n",
      "[('', 18788), ('the', 13865), ('-', 13397), ('to', 11934), ('a', 10647), ('de', 10020), ('and', 9991), ('of', 9271), ('in', 7774), ('i', 6963), ('|', 6068), (':', 4477), ('for', 4406), ('&', 4324), ('is', 4028), ('u', 4009), ('(1)', 3927), ('se', 3890), ('on', 3650), ('you', 3467)]\n",
      "de\n",
      "[('und', 25900), ('der', 17057), ('-', 15835), ('die', 15028), ('', 12351), ('in', 12305), ('für', 10095), ('mit', 8702), ('von', 8099), ('|', 8026), ('&', 7977), ('Sie', 7673), ('den', 6838), ('zu', 6772), ('/', 6567), ('auf', 5753), ('im', 5415), ('€', 5197), ('das', 5169), ('ist', 4862)]\n",
      "uk\n",
      "[('the', 18265), ('and', 15690), ('to', 15094), ('-', 14801), ('&', 14005), ('in', 13613), ('of', 11721), ('a', 9197), ('for', 6331), ('is', 5116), ('The', 4554), ('on', 4413), ('with', 4042), ('Garden', 4018), ('you', 3867), ('Sheds', 3676), ('your', 3537), ('', 3394), ('by', 3201), ('are', 2893)]\n",
      "fr\n",
      "[('de', 29948), ('et', 12912), ('à', 12174), ('-', 11983), ('la', 11964), (':', 8696), ('le', 8344), ('des', 7623), ('les', 7314), ('en', 6700), ('du', 6551), ('pour', 4788), ('un', 4178), ('sur', 3648), ('dans', 3298), ('est', 3160), ('une', 3099), ('//', 3041), ('vous', 3005), ('au', 2876)]\n",
      "it\n",
      "[('di', 15649), ('e', 13079), ('-', 8964), ('in', 7154), ('per', 7003), ('a', 5822), ('la', 5357), ('il', 5147), ('del', 4000), ('da', 3832), ('con', 3356), ('un', 3316), ('che', 3242), ('al', 2811), ('', 2759), ('i', 2688), ('della', 2626), ('è', 2312), ('una', 2309), ('le', 2225)]\n",
      "br\n",
      "[('de', 30834), ('-', 18698), ('e', 11752), ('do', 8888), ('em', 7570), ('a', 7346), ('para', 6627), ('da', 5937), ('o', 5866), ('no', 5317), ('com', 4603), ('que', 4347), ('na', 3517), ('|', 2811), ('', 2628), ('Brasil', 2608), ('Moda', 2168), ('é', 2161), ('por', 2020), ('mais', 1982)]\n",
      "php\n",
      "[('the', 9682), ('-', 6816), ('and', 5570), ('a', 5291), ('in', 5283), ('to', 5278), ('de', 4309), ('of', 4065), ('for', 2639), ('', 2567), ('Pavilion', 2129), ('und', 2069), ('with', 1996), ('on', 1995), ('der', 1718), ('la', 1604), ('die', 1580), ('The', 1545), ('is', 1524), ('at', 1416)]\n"
     ]
    }
   ],
   "source": [
    "## Example #2 - Group by TLD and compute most common words for each ##\n",
    "\n",
    "ex = \"WARC-Type: conversion\\\n",
    "WARC-Target-URI: http://news.bbc.co.uk/2/hi/africa/3414345.stm\\\n",
    "WARC-Date: 2014-08-02T09:52:13Z\"\n",
    "\n",
    "p = re.compile('WARC-Target-URI: \\S+\\.([a-zA-Z]{2,3})/', re.IGNORECASE)\n",
    "# print(p.search(ex).group(1))\n",
    "# uk\n",
    "\n",
    "def get_tld(content):\n",
    "    match = p.search(content)\n",
    "    if match is not None:\n",
    "        return match.group(1)\n",
    "    else:\n",
    "        return None\n",
    "\n",
    "# discard the line number\n",
    "# partition() -- python function -- split on the first occurance, returns (before,split,after)\n",
    "# filter out those with no TLD\n",
    "\n",
    "    \n",
    "words_by_tld_rdd = rdd\\\n",
    ".map(lambda filename_content: filename_content[1])\\\n",
    ".map(lambda content: (get_tld(content), content.partition('\\r\\n\\r\\n')[2]))\\\n",
    ".filter(lambda tld_content: tld_content[0] is not None)\\\n",
    ".flatMapValues(lambda words: words.split(' '))\\\n",
    ".flatMapValues(lambda words: words.split('\\n'))\\\n",
    ".mapValues(lambda word: word.strip())\n",
    "#.take(10)\n",
    "\n",
    "# print(words_by_tld_rdd.take(10))\n",
    "\n",
    "tlds = words_by_tld_rdd.countByKey()\n",
    "#print(tlds)\n",
    "\n",
    "tlds = OrderedDict(sorted(tlds.items(), key = itemgetter(1), reverse = True))\n",
    "# print(tlds)  \n",
    "\n",
    "top_tlds = dict(itertools.islice(tlds.items(), 10))\n",
    "\n",
    "# print(top_tlds)\n",
    "\n",
    "print(\"Results:\")\n",
    "\n",
    "for tld in top_tlds:\n",
    "    print(tld)\n",
    "    top_words_for_tld = words_by_tld_rdd\\\n",
    "        .filter(lambda tld_word: tld_word[0] == tld)\\\n",
    "        .values()\\\n",
    "        .map(lambda w: (w,1))\\\n",
    "        .reduceByKey(add)\\\n",
    "        .takeOrdered(20, key=lambda x: -x[1])\n",
    "    print(top_words_for_tld)"
   ]
  },
  {
   "cell_type": "code",
   "execution_count": 7,
   "metadata": {},
   "outputs": [
    {
     "name": "stdout",
     "output_type": "stream",
     "text": [
      "None\n"
     ]
    }
   ],
   "source": [
    "#file_content = rdd.take(1)[0][1]\n",
    "#print(file_content.partition('\\r\\n\\r\\n')[2])\n",
    "from operator import add\n",
    "import re\n",
    "\n",
    "ex = \"WARC-Type: conversion\\\n",
    "WARC-Target-URI: http://news.bbc.co.uk/2/hi/africa/3414345.stm\\\n",
    "WARC-Date: 2014-08-02T09:52:13Z\"\n",
    "\n",
    "p = re.compile('WARC-Target-URI: \\S+\\.(([a-zA-Z]{2,3}}\\.)?[a-zA-Z]{2,3}})/', re.IGNORECASE)\n",
    "\n",
    "print(p.search(ex))\n",
    "\n",
    "#print(bool(p.search('\\nWARC-Target-URI:\\n')))\n",
    "\n",
    "#rdd\\\n",
    "#.filter(lambda doc: bool(p.search(doc[1])))\\\n",
    "#.map(lambda filename_content: filename_content[1].partition('\\r\\n\\r\\n')[2])\\\n",
    "#.flatMap(lambda t: t.split(' '))\\\n",
    "#.flatMap(lambda w: w.split('\\n'))\\\n",
    "#.map(lambda w: w.strip())\\\n",
    "#.map(lambda w: (w,1))\\\n",
    "#.reduceByKey(add)\\\n",
    "#.takeOrdered(100, key=lambda x: -x[1])\n",
    "#.take(100)\n",
    "#.take(10)\n",
    "#.flatMap(lambda text: text.split(' ')).take(100)"
   ]
  },
  {
   "cell_type": "code",
   "execution_count": 8,
   "metadata": {},
   "outputs": [],
   "source": [
    "spark_session.stop()"
   ]
  }
 ],
 "metadata": {
  "kernelspec": {
   "display_name": "Python 3",
   "language": "python",
   "name": "python3"
  },
  "language_info": {
   "codemirror_mode": {
    "name": "ipython",
    "version": 3
   },
   "file_extension": ".py",
   "mimetype": "text/x-python",
   "name": "python",
   "nbconvert_exporter": "python",
   "pygments_lexer": "ipython3",
   "version": "3.6.7"
  }
 },
 "nbformat": 4,
 "nbformat_minor": 2
}
